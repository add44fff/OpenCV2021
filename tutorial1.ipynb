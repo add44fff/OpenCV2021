{
 "cells": [
  {
   "cell_type": "code",
   "execution_count": 1,
   "id": "3854f90c-c781-42cc-9d42-f887e38f913f",
   "metadata": {},
   "outputs": [
    {
     "data": {
      "text/plain": [
       "3"
      ]
     },
     "execution_count": 1,
     "metadata": {},
     "output_type": "execute_result"
    }
   ],
   "source": [
    "1+2"
   ]
  },
  {
   "cell_type": "code",
   "execution_count": 2,
   "id": "630a0db0-38d9-49b8-9c10-e24fdafc0196",
   "metadata": {},
   "outputs": [],
   "source": [
    "x,y=2,3"
   ]
  },
  {
   "cell_type": "code",
   "execution_count": 3,
   "id": "ef1c767c-c26e-4274-b2d5-882e95d2b190",
   "metadata": {},
   "outputs": [
    {
     "data": {
      "text/plain": [
       "2"
      ]
     },
     "execution_count": 3,
     "metadata": {},
     "output_type": "execute_result"
    }
   ],
   "source": [
    "x"
   ]
  },
  {
   "cell_type": "code",
   "execution_count": 4,
   "id": "2210538e-c935-4756-bd9c-8f2820a22596",
   "metadata": {},
   "outputs": [
    {
     "data": {
      "text/plain": [
       "3"
      ]
     },
     "execution_count": 4,
     "metadata": {},
     "output_type": "execute_result"
    }
   ],
   "source": [
    "y"
   ]
  },
  {
   "cell_type": "code",
   "execution_count": 5,
   "id": "31db18ac-5117-4d59-a708-4fce56cfc363",
   "metadata": {},
   "outputs": [],
   "source": [
    "tu=(23,'abc',4.56,(2,3),'def')"
   ]
  },
  {
   "cell_type": "code",
   "execution_count": 6,
   "id": "947c43c6-fe7d-4bca-b413-175d66f0456b",
   "metadata": {},
   "outputs": [
    {
     "data": {
      "text/plain": [
       "23"
      ]
     },
     "execution_count": 6,
     "metadata": {},
     "output_type": "execute_result"
    }
   ],
   "source": [
    "tu[0]"
   ]
  },
  {
   "cell_type": "code",
   "execution_count": 7,
   "id": "73fe4b45-1d7d-4f56-a43b-e4321d436c54",
   "metadata": {},
   "outputs": [
    {
     "data": {
      "text/plain": [
       "23"
      ]
     },
     "execution_count": 7,
     "metadata": {},
     "output_type": "execute_result"
    }
   ],
   "source": [
    "tu[0]"
   ]
  },
  {
   "cell_type": "code",
   "execution_count": 8,
   "id": "3d12e334-1998-445d-8456-3b009496db86",
   "metadata": {},
   "outputs": [
    {
     "data": {
      "text/plain": [
       "'abc'"
      ]
     },
     "execution_count": 8,
     "metadata": {},
     "output_type": "execute_result"
    }
   ],
   "source": [
    "tu[1]"
   ]
  },
  {
   "cell_type": "code",
   "execution_count": 10,
   "id": "2e6d68a6-9e32-44db-a10b-2e6e5c631bab",
   "metadata": {},
   "outputs": [],
   "source": [
    "li = ['abc', 34, 4.34, 23]"
   ]
  },
  {
   "cell_type": "code",
   "execution_count": 11,
   "id": "60b2923f-59a2-4fba-a469-373e14a196e4",
   "metadata": {},
   "outputs": [
    {
     "data": {
      "text/plain": [
       "'abc'"
      ]
     },
     "execution_count": 11,
     "metadata": {},
     "output_type": "execute_result"
    }
   ],
   "source": [
    "li[0]"
   ]
  },
  {
   "cell_type": "code",
   "execution_count": 12,
   "id": "5689692a-2c61-4ea4-89df-fb611f808ad5",
   "metadata": {},
   "outputs": [
    {
     "data": {
      "text/plain": [
       "34"
      ]
     },
     "execution_count": 12,
     "metadata": {},
     "output_type": "execute_result"
    }
   ],
   "source": [
    "li[1]"
   ]
  },
  {
   "cell_type": "code",
   "execution_count": 13,
   "id": "17dfbf50-f82a-4142-9437-f1f20f83d85b",
   "metadata": {},
   "outputs": [
    {
     "data": {
      "text/plain": [
       "4.34"
      ]
     },
     "execution_count": 13,
     "metadata": {},
     "output_type": "execute_result"
    }
   ],
   "source": [
    "li[2]"
   ]
  },
  {
   "cell_type": "code",
   "execution_count": 1,
   "id": "57cdab78-b956-4a40-b2b2-c38c6a680cc4",
   "metadata": {},
   "outputs": [
    {
     "data": {
      "text/plain": [
       "\"\\nint x = 2;\\nfloat y = 2.3;\\nString msg = 'message';\\nint[] x = {1,2,3};\\nc, java, python\\n\""
      ]
     },
     "execution_count": 1,
     "metadata": {},
     "output_type": "execute_result"
    }
   ],
   "source": [
    "\"\"\"\n",
    "int x = 2;\n",
    "float y = 2.3;\n",
    "String msg = 'message';\n",
    "int[] x = {1,2,3};\n",
    "c, java, python\n",
    "\"\"\""
   ]
  },
  {
   "cell_type": "code",
   "execution_count": 15,
   "id": "011bcdc6-b250-4437-ae96-fef8885e0bfb",
   "metadata": {},
   "outputs": [
    {
     "name": "stdout",
     "output_type": "stream",
     "text": [
      "This is a multi-line\n",
      "string that uses triple quotes.\n"
     ]
    }
   ],
   "source": [
    "print(st)\n"
   ]
  },
  {
   "cell_type": "code",
   "execution_count": 17,
   "id": "068b2be7-b6aa-46bc-a2aa-4cea8fbb4c50",
   "metadata": {},
   "outputs": [
    {
     "name": "stdout",
     "output_type": "stream",
     "text": [
      "['abc', 34, 4.34, 23]\n"
     ]
    }
   ],
   "source": [
    "print(li)"
   ]
  },
  {
   "cell_type": "code",
   "execution_count": 18,
   "id": "e82cf443-5d99-4ae0-9612-7a585b7c535d",
   "metadata": {},
   "outputs": [
    {
     "data": {
      "text/plain": [
       "23"
      ]
     },
     "execution_count": 18,
     "metadata": {},
     "output_type": "execute_result"
    }
   ],
   "source": [
    "li[-1]"
   ]
  },
  {
   "cell_type": "code",
   "execution_count": 19,
   "id": "51220552-0d0b-451a-b8ba-f8522d21d478",
   "metadata": {},
   "outputs": [
    {
     "data": {
      "text/plain": [
       "4.34"
      ]
     },
     "execution_count": 19,
     "metadata": {},
     "output_type": "execute_result"
    }
   ],
   "source": [
    "li[-2]"
   ]
  },
  {
   "cell_type": "code",
   "execution_count": 2,
   "id": "8f3ec813-3c0b-4928-8238-e86628d4a66b",
   "metadata": {},
   "outputs": [
    {
     "ename": "NameError",
     "evalue": "name 'li' is not defined",
     "output_type": "error",
     "traceback": [
      "\u001b[1;31m---------------------------------------------------------------------------\u001b[0m",
      "\u001b[1;31mNameError\u001b[0m                                 Traceback (most recent call last)",
      "\u001b[1;32m<ipython-input-2-eaafe881b5d5>\u001b[0m in \u001b[0;36m<module>\u001b[1;34m\u001b[0m\n\u001b[1;32m----> 1\u001b[1;33m \u001b[0mli\u001b[0m\u001b[1;33m[\u001b[0m\u001b[1;36m4\u001b[0m\u001b[1;33m]\u001b[0m\u001b[1;33m\u001b[0m\u001b[1;33m\u001b[0m\u001b[0m\n\u001b[0m",
      "\u001b[1;31mNameError\u001b[0m: name 'li' is not defined"
     ]
    }
   ],
   "source": [
    "li[4]"
   ]
  },
  {
   "cell_type": "code",
   "execution_count": 21,
   "id": "b07d4577-2115-4a2c-b2c8-53b9c2870383",
   "metadata": {},
   "outputs": [
    {
     "data": {
      "text/plain": [
       "23"
      ]
     },
     "execution_count": 21,
     "metadata": {},
     "output_type": "execute_result"
    }
   ],
   "source": [
    "tu[0]"
   ]
  },
  {
   "cell_type": "code",
   "execution_count": 22,
   "id": "72cf2eb1-531a-41fb-9c20-93761d5699da",
   "metadata": {},
   "outputs": [
    {
     "data": {
      "text/plain": [
       "'abc'"
      ]
     },
     "execution_count": 22,
     "metadata": {},
     "output_type": "execute_result"
    }
   ],
   "source": [
    "tu[1]"
   ]
  },
  {
   "cell_type": "code",
   "execution_count": 23,
   "id": "98c39624-9409-450f-854f-757a279605ab",
   "metadata": {},
   "outputs": [
    {
     "data": {
      "text/plain": [
       "'def'"
      ]
     },
     "execution_count": 23,
     "metadata": {},
     "output_type": "execute_result"
    }
   ],
   "source": [
    "tu[-1]"
   ]
  },
  {
   "cell_type": "code",
   "execution_count": 24,
   "id": "5b458962-be2e-4256-a18d-bba518d96476",
   "metadata": {},
   "outputs": [
    {
     "data": {
      "text/plain": [
       "('abc', 4.56, (2, 3))"
      ]
     },
     "execution_count": 24,
     "metadata": {},
     "output_type": "execute_result"
    }
   ],
   "source": [
    "tu[1:4]"
   ]
  },
  {
   "cell_type": "code",
   "execution_count": 26,
   "id": "c775b17e-b4f1-48d8-9601-1ef47fc6d74c",
   "metadata": {},
   "outputs": [
    {
     "data": {
      "text/plain": [
       "('abc', 4.56, (2, 3))"
      ]
     },
     "execution_count": 26,
     "metadata": {},
     "output_type": "execute_result"
    }
   ],
   "source": [
    "tu[1:-1]"
   ]
  },
  {
   "cell_type": "code",
   "execution_count": 29,
   "id": "1690ddd6-3f13-4579-a6c9-f1b4b3a8aee4",
   "metadata": {},
   "outputs": [
    {
     "data": {
      "text/plain": [
       "('abc', (2, 3))"
      ]
     },
     "execution_count": 29,
     "metadata": {},
     "output_type": "execute_result"
    }
   ],
   "source": [
    "tu[1:4:2]"
   ]
  },
  {
   "cell_type": "code",
   "execution_count": 30,
   "id": "237573b4-2c8e-4af6-975d-5b81259f0d92",
   "metadata": {},
   "outputs": [
    {
     "data": {
      "text/plain": [
       "(23, 'abc', 4.56, (2, 3))"
      ]
     },
     "execution_count": 30,
     "metadata": {},
     "output_type": "execute_result"
    }
   ],
   "source": [
    "tu[:4]"
   ]
  },
  {
   "cell_type": "code",
   "execution_count": 31,
   "id": "a2441257-c803-4c36-91f8-0eaabbde3a5e",
   "metadata": {},
   "outputs": [
    {
     "data": {
      "text/plain": [
       "(4.56, (2, 3), 'def')"
      ]
     },
     "execution_count": 31,
     "metadata": {},
     "output_type": "execute_result"
    }
   ],
   "source": [
    "tu[2:]"
   ]
  },
  {
   "cell_type": "code",
   "execution_count": 32,
   "id": "741746bb-3e71-454c-84b7-99c957190be0",
   "metadata": {},
   "outputs": [
    {
     "data": {
      "text/plain": [
       "(23, 'abc', 4.56, (2, 3), 'def')"
      ]
     },
     "execution_count": 32,
     "metadata": {},
     "output_type": "execute_result"
    }
   ],
   "source": [
    "tu"
   ]
  },
  {
   "cell_type": "code",
   "execution_count": 33,
   "id": "bc88ee47-9771-49da-a1de-404e2ab92d61",
   "metadata": {},
   "outputs": [],
   "source": [
    "tu1=tu"
   ]
  },
  {
   "cell_type": "code",
   "execution_count": 34,
   "id": "c41eb777-5731-4586-a21b-8e135d0150ed",
   "metadata": {},
   "outputs": [
    {
     "name": "stdout",
     "output_type": "stream",
     "text": [
      "(23, 'abc', 4.56, (2, 3), 'def')\n"
     ]
    }
   ],
   "source": [
    "print(tu1)"
   ]
  },
  {
   "cell_type": "code",
   "execution_count": 36,
   "id": "e05b8f74-6b52-426b-8724-e3a0ed88927e",
   "metadata": {},
   "outputs": [
    {
     "ename": "SyntaxError",
     "evalue": "cannot assign to function call (<ipython-input-36-f8863cd96e29>, line 1)",
     "output_type": "error",
     "traceback": [
      "\u001b[1;36m  File \u001b[1;32m\"<ipython-input-36-f8863cd96e29>\"\u001b[1;36m, line \u001b[1;32m1\u001b[0m\n\u001b[1;33m    tu1(0)= 1\u001b[0m\n\u001b[1;37m    ^\u001b[0m\n\u001b[1;31mSyntaxError\u001b[0m\u001b[1;31m:\u001b[0m cannot assign to function call\n"
     ]
    }
   ],
   "source": [
    "tu1(0)= 1"
   ]
  },
  {
   "cell_type": "code",
   "execution_count": 37,
   "id": "5e6800bb-1e9e-4bd1-a282-864346b56d06",
   "metadata": {},
   "outputs": [],
   "source": [
    "li = [23, 'abc', 4.56, (2, 3), 'def']"
   ]
  },
  {
   "cell_type": "code",
   "execution_count": 38,
   "id": "5143849d-f1ce-4150-9281-e7a594563432",
   "metadata": {},
   "outputs": [
    {
     "name": "stdout",
     "output_type": "stream",
     "text": [
      "[23, 'abc', 4.56, (2, 3), 'def']\n"
     ]
    }
   ],
   "source": [
    "print(li)"
   ]
  },
  {
   "cell_type": "code",
   "execution_count": 39,
   "id": "12076249-9de6-4e66-b6fb-3b2d51bf8cc4",
   "metadata": {},
   "outputs": [],
   "source": [
    "li[0]=1"
   ]
  },
  {
   "cell_type": "code",
   "execution_count": 41,
   "id": "14485e9e-afc3-42f9-b182-6a54366a1b37",
   "metadata": {},
   "outputs": [
    {
     "name": "stdout",
     "output_type": "stream",
     "text": [
      "[1, 'abc', 4.56, (2, 3), 'def']\n"
     ]
    }
   ],
   "source": [
    "print(li)"
   ]
  },
  {
   "cell_type": "code",
   "execution_count": 42,
   "id": "47dbc1af-33b7-4f89-97dc-6d762f791549",
   "metadata": {},
   "outputs": [],
   "source": [
    " t = [1, 2, 4, 5]"
   ]
  },
  {
   "cell_type": "code",
   "execution_count": 43,
   "id": "d416f855-30ca-4b68-8fd6-cd53ac952d06",
   "metadata": {},
   "outputs": [
    {
     "data": {
      "text/plain": [
       "False"
      ]
     },
     "execution_count": 43,
     "metadata": {},
     "output_type": "execute_result"
    }
   ],
   "source": [
    "3 in t"
   ]
  },
  {
   "cell_type": "code",
   "execution_count": 44,
   "id": "f72a8c27-80bf-423e-8f8b-2806bdee464a",
   "metadata": {},
   "outputs": [
    {
     "data": {
      "text/plain": [
       "True"
      ]
     },
     "execution_count": 44,
     "metadata": {},
     "output_type": "execute_result"
    }
   ],
   "source": [
    "4 in t"
   ]
  },
  {
   "cell_type": "code",
   "execution_count": 45,
   "id": "71e2343c-7013-44a8-b9d4-eb238cde24e5",
   "metadata": {},
   "outputs": [
    {
     "data": {
      "text/plain": [
       "False"
      ]
     },
     "execution_count": 45,
     "metadata": {},
     "output_type": "execute_result"
    }
   ],
   "source": [
    "4 not in t"
   ]
  },
  {
   "cell_type": "code",
   "execution_count": 46,
   "id": "44792df8-f5df-4eb1-b044-636ed4cdd899",
   "metadata": {},
   "outputs": [],
   "source": [
    "a = 'abcde'"
   ]
  },
  {
   "cell_type": "code",
   "execution_count": 47,
   "id": "7d8c4065-f84f-40f8-9e29-2cd3489ea2f4",
   "metadata": {},
   "outputs": [
    {
     "data": {
      "text/plain": [
       "True"
      ]
     },
     "execution_count": 47,
     "metadata": {},
     "output_type": "execute_result"
    }
   ],
   "source": [
    "'c' in a"
   ]
  },
  {
   "cell_type": "code",
   "execution_count": 48,
   "id": "66b8aef0-c663-4c1b-bac6-e27812e2713e",
   "metadata": {},
   "outputs": [
    {
     "data": {
      "text/plain": [
       "True"
      ]
     },
     "execution_count": 48,
     "metadata": {},
     "output_type": "execute_result"
    }
   ],
   "source": [
    "'cd' in a"
   ]
  },
  {
   "cell_type": "code",
   "execution_count": 49,
   "id": "52e91c7d-4285-4f8c-9725-aa6b2af7b457",
   "metadata": {},
   "outputs": [
    {
     "data": {
      "text/plain": [
       "False"
      ]
     },
     "execution_count": 49,
     "metadata": {},
     "output_type": "execute_result"
    }
   ],
   "source": [
    "'ac' in a"
   ]
  },
  {
   "cell_type": "code",
   "execution_count": 50,
   "id": "bacd7b80-719d-464b-952f-877e9938799e",
   "metadata": {},
   "outputs": [
    {
     "data": {
      "text/plain": [
       "(1, 2, 3, 4, 5, 6)"
      ]
     },
     "execution_count": 50,
     "metadata": {},
     "output_type": "execute_result"
    }
   ],
   "source": [
    "(1, 2, 3) + (4, 5, 6)"
   ]
  },
  {
   "cell_type": "code",
   "execution_count": 51,
   "id": "c597b698-456f-45f0-9c63-f4d686d3f100",
   "metadata": {},
   "outputs": [
    {
     "data": {
      "text/plain": [
       "[1, 2, 3, 4, 5, 6]"
      ]
     },
     "execution_count": 51,
     "metadata": {},
     "output_type": "execute_result"
    }
   ],
   "source": [
    "[1, 2, 3] + [4, 5, 6]"
   ]
  },
  {
   "cell_type": "code",
   "execution_count": 7,
   "id": "64293599-61f0-4005-a34e-567a948e5758",
   "metadata": {},
   "outputs": [
    {
     "data": {
      "text/plain": [
       "'HelloWorld'"
      ]
     },
     "execution_count": 7,
     "metadata": {},
     "output_type": "execute_result"
    }
   ],
   "source": [
    "'Hello' + '' + 'World'"
   ]
  },
  {
   "cell_type": "code",
   "execution_count": 3,
   "id": "2bea337a-a6e1-4415-a902-30cb2f4fc458",
   "metadata": {},
   "outputs": [],
   "source": [
    "x=2"
   ]
  },
  {
   "cell_type": "code",
   "execution_count": 20,
   "id": "09622ac3-3972-4f83-8fdb-61a14ffe83c1",
   "metadata": {},
   "outputs": [
    {
     "name": "stdout",
     "output_type": "stream",
     "text": [
      "This is a multi-line\n",
      "###\n",
      ".....\n",
      "..\n",
      "string that uses triple quotes.\n"
     ]
    }
   ],
   "source": [
    "st = \"\"\"This is a multi-line\n",
    "###\n",
    ".....\n",
    "..\n",
    "string that uses triple quotes.\"\"\"\n",
    "print(st)"
   ]
  },
  {
   "cell_type": "code",
   "execution_count": 22,
   "id": "7bc58f68-654f-4609-80b8-3a4df7144ff4",
   "metadata": {},
   "outputs": [
    {
     "data": {
      "text/plain": [
       "'s'"
      ]
     },
     "execution_count": 22,
     "metadata": {},
     "output_type": "execute_result"
    }
   ],
   "source": [
    "st[-2]"
   ]
  },
  {
   "cell_type": "code",
   "execution_count": 23,
   "id": "e3c62c92-2f30-4cd2-94c7-86ea0ec8773c",
   "metadata": {},
   "outputs": [
    {
     "data": {
      "text/plain": [
       "'hsi  ut-ie##....\\ntigta sstil uts'"
      ]
     },
     "execution_count": 23,
     "metadata": {},
     "output_type": "execute_result"
    }
   ],
   "source": [
    "st[1:-1:1]"
   ]
  },
  {
   "cell_type": "code",
   "execution_count": 26,
   "id": "efc38acb-b592-4efd-a05b-7eed1e049da7",
   "metadata": {},
   "outputs": [
    {
     "data": {
      "text/plain": [
       "'hsi  ut-ie##....\\ntigta sstil uts'"
      ]
     },
     "execution_count": 26,
     "metadata": {},
     "output_type": "execute_result"
    }
   ],
   "source": [
    "st[1:-1:2]"
   ]
  },
  {
   "cell_type": "code",
   "execution_count": 10,
   "id": "9b97eb19-a304-42e6-8abe-bf252a9497e5",
   "metadata": {},
   "outputs": [
    {
     "name": "stdout",
     "output_type": "stream",
     "text": [
      "test\" string\n"
     ]
    }
   ],
   "source": [
    "st = 'test\" string'\n",
    "print(st)"
   ]
  },
  {
   "cell_type": "markdown",
   "id": "d1904a47-5c97-448a-9467-d01854bebd87",
   "metadata": {},
   "source": []
  },
  {
   "cell_type": "code",
   "execution_count": 27,
   "id": "235b17c0-bc57-479d-8914-13d7f1e46530",
   "metadata": {},
   "outputs": [
    {
     "data": {
      "text/plain": [
       "5"
      ]
     },
     "execution_count": 27,
     "metadata": {},
     "output_type": "execute_result"
    }
   ],
   "source": [
    "2+3"
   ]
  },
  {
   "cell_type": "code",
   "execution_count": null,
   "id": "4c615aba-d0ad-4347-98f9-c883243df3a5",
   "metadata": {},
   "outputs": [],
   "source": []
  }
 ],
 "metadata": {
  "kernelspec": {
   "display_name": "Python 3",
   "language": "python",
   "name": "python3"
  },
  "language_info": {
   "codemirror_mode": {
    "name": "ipython",
    "version": 3
   },
   "file_extension": ".py",
   "mimetype": "text/x-python",
   "name": "python",
   "nbconvert_exporter": "python",
   "pygments_lexer": "ipython3",
   "version": "3.9.4"
  }
 },
 "nbformat": 4,
 "nbformat_minor": 5
}
