{
 "cells": [
  {
   "cell_type": "code",
   "execution_count": 3,
   "id": "5e3b3af0-3baa-41f8-8509-0ef4688cb705",
   "metadata": {},
   "outputs": [],
   "source": [
    "x = 3"
   ]
  },
  {
   "cell_type": "code",
   "execution_count": 17,
   "id": "4e5c3530-4750-4e9c-86fd-59fce063d8f2",
   "metadata": {},
   "outputs": [],
   "source": [
    "while x < 5:\n",
    "    print(x, \"still in the loop\")\n",
    "    x = x +1"
   ]
  },
  {
   "cell_type": "code",
   "execution_count": 9,
   "id": "36d0ef4e-b9fa-4838-961e-58d829449b78",
   "metadata": {},
   "outputs": [],
   "source": [
    "x = 6"
   ]
  },
  {
   "cell_type": "code",
   "execution_count": 13,
   "id": "167cb3c4-802f-4641-ab5a-1cdb095011fd",
   "metadata": {},
   "outputs": [],
   "source": [
    "while x < 5:\n",
    "    print (x, \"still in the loop\")"
   ]
  },
  {
   "cell_type": "code",
   "execution_count": null,
   "id": "cc507d8d-7c74-4751-b454-ad8b5da554b3",
   "metadata": {},
   "outputs": [],
   "source": []
  }
 ],
 "metadata": {
  "kernelspec": {
   "display_name": "Python 3",
   "language": "python",
   "name": "python3"
  },
  "language_info": {
   "codemirror_mode": {
    "name": "ipython",
    "version": 3
   },
   "file_extension": ".py",
   "mimetype": "text/x-python",
   "name": "python",
   "nbconvert_exporter": "python",
   "pygments_lexer": "ipython3",
   "version": "3.9.4"
  }
 },
 "nbformat": 4,
 "nbformat_minor": 5
}
