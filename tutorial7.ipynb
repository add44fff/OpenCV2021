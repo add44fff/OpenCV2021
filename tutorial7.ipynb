{
 "cells": [
  {
   "cell_type": "code",
   "execution_count": 1,
   "id": "fe6475d6-fb5b-4148-8975-ee27dfec64ff",
   "metadata": {},
   "outputs": [],
   "source": [
    " li = [3, 6, 2, 7]"
   ]
  },
  {
   "cell_type": "code",
   "execution_count": 3,
   "id": "95945fdb-f674-40f0-8410-67440e64b7b8",
   "metadata": {},
   "outputs": [
    {
     "data": {
      "text/plain": [
       "[6, 12, 4, 14]"
      ]
     },
     "execution_count": 3,
     "metadata": {},
     "output_type": "execute_result"
    }
   ],
   "source": [
    "[elem*2 for elem in li]"
   ]
  },
  {
   "cell_type": "code",
   "execution_count": 7,
   "id": "17a5d924-d803-416c-8c30-125f2c440cc6",
   "metadata": {},
   "outputs": [],
   "source": [
    "li = [('a', 1), ('b', 2), ('c', 7)]"
   ]
  },
  {
   "cell_type": "code",
   "execution_count": 8,
   "id": "6c4d7c9d-82d9-4ec9-8b4b-9b170db276ea",
   "metadata": {},
   "outputs": [
    {
     "data": {
      "text/plain": [
       "[3, 6, 21]"
      ]
     },
     "execution_count": 8,
     "metadata": {},
     "output_type": "execute_result"
    }
   ],
   "source": [
    "[ n * 3 for (x, n) in li]"
   ]
  },
  {
   "cell_type": "code",
   "execution_count": 9,
   "id": "27396b14-3408-4bfb-9844-2c5eb786e5a9",
   "metadata": {},
   "outputs": [],
   "source": [
    "li = [3, 6, 2, 7, 1, 9]"
   ]
  },
  {
   "cell_type": "code",
   "execution_count": 10,
   "id": "b8e8b4fe-23e5-4e59-9c8c-c0e4bc36b7ee",
   "metadata": {},
   "outputs": [
    {
     "data": {
      "text/plain": [
       "[12, 14, 18]"
      ]
     },
     "execution_count": 10,
     "metadata": {},
     "output_type": "execute_result"
    }
   ],
   "source": [
    " [elem * 2 for elem in li if elem > 4]"
   ]
  },
  {
   "cell_type": "code",
   "execution_count": 11,
   "id": "943592a4-202d-465d-bf0a-ba85305119a5",
   "metadata": {},
   "outputs": [],
   "source": [
    "li = [3, 2, 4, 1]"
   ]
  },
  {
   "cell_type": "code",
   "execution_count": 12,
   "id": "cac58a97-d975-4cca-8748-a6e6fe2d96cd",
   "metadata": {},
   "outputs": [
    {
     "data": {
      "text/plain": [
       "[8, 6, 10, 4]"
      ]
     },
     "execution_count": 12,
     "metadata": {},
     "output_type": "execute_result"
    }
   ],
   "source": [
    "[elem*2 for elem in \n",
    "    [item+1 for item in li] ]"
   ]
  },
  {
   "cell_type": "code",
   "execution_count": null,
   "id": "756a1df1-1a1e-4487-8e2f-3944ce233a54",
   "metadata": {},
   "outputs": [],
   "source": []
  }
 ],
 "metadata": {
  "kernelspec": {
   "display_name": "Python 3",
   "language": "python",
   "name": "python3"
  },
  "language_info": {
   "codemirror_mode": {
    "name": "ipython",
    "version": 3
   },
   "file_extension": ".py",
   "mimetype": "text/x-python",
   "name": "python",
   "nbconvert_exporter": "python",
   "pygments_lexer": "ipython3",
   "version": "3.9.4"
  }
 },
 "nbformat": 4,
 "nbformat_minor": 5
}
