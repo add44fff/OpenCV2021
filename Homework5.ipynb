{
 "cells": [
  {
   "cell_type": "code",
   "execution_count": 9,
   "id": "3875b023-7c7b-49ab-a0a7-8af8ba09d509",
   "metadata": {},
   "outputs": [],
   "source": [
    "import cv2\n",
    "import numpy as np\n",
    "from matplotlib import pyplot as plt"
   ]
  },
  {
   "cell_type": "code",
   "execution_count": 10,
   "id": "4931214e-28c6-4999-8107-f06d5924bc42",
   "metadata": {},
   "outputs": [
    {
     "ename": "NameError",
     "evalue": "name 'img_gray' is not defined",
     "output_type": "error",
     "traceback": [
      "\u001b[1;31m---------------------------------------------------------------------------\u001b[0m",
      "\u001b[1;31mNameError\u001b[0m                                 Traceback (most recent call last)",
      "\u001b[1;32m<ipython-input-10-fb33a1403b17>\u001b[0m in \u001b[0;36m<module>\u001b[1;34m\u001b[0m\n\u001b[0;32m      1\u001b[0m \u001b[0mimg\u001b[0m \u001b[1;33m=\u001b[0m \u001b[0mcv2\u001b[0m\u001b[1;33m.\u001b[0m\u001b[0mimread\u001b[0m\u001b[1;33m(\u001b[0m\u001b[1;34m'sIMG_8254.jpg'\u001b[0m\u001b[1;33m,\u001b[0m\u001b[1;36m1\u001b[0m\u001b[1;33m)\u001b[0m\u001b[1;33m\u001b[0m\u001b[1;33m\u001b[0m\u001b[0m\n\u001b[0;32m      2\u001b[0m \u001b[0mgray\u001b[0m \u001b[1;33m=\u001b[0m \u001b[0mcv2\u001b[0m\u001b[1;33m.\u001b[0m\u001b[0mcvtColor\u001b[0m\u001b[1;33m(\u001b[0m\u001b[0mimg\u001b[0m\u001b[1;33m,\u001b[0m \u001b[0mcv2\u001b[0m\u001b[1;33m.\u001b[0m\u001b[0mCOLOR_BGR2GRAY\u001b[0m\u001b[1;33m)\u001b[0m\u001b[1;33m\u001b[0m\u001b[1;33m\u001b[0m\u001b[0m\n\u001b[1;32m----> 3\u001b[1;33m \u001b[0mimg_gray\u001b[0m \u001b[1;33m=\u001b[0m \u001b[0mcv2\u001b[0m\u001b[1;33m.\u001b[0m\u001b[0mmedianBlur\u001b[0m\u001b[1;33m(\u001b[0m\u001b[0mimg_gray\u001b[0m\u001b[1;33m,\u001b[0m\u001b[1;36m5\u001b[0m\u001b[1;33m)\u001b[0m\u001b[1;33m\u001b[0m\u001b[1;33m\u001b[0m\u001b[0m\n\u001b[0m\u001b[0;32m      4\u001b[0m \u001b[0mimg_color\u001b[0m \u001b[1;33m=\u001b[0m \u001b[0mcv2\u001b[0m\u001b[1;33m.\u001b[0m\u001b[0mcvtColor\u001b[0m\u001b[1;33m(\u001b[0m\u001b[0mimg_gray\u001b[0m\u001b[1;33m,\u001b[0m\u001b[0mcv2\u001b[0m\u001b[1;33m.\u001b[0m\u001b[0mCOLOR_GRAY2BGR\u001b[0m\u001b[1;33m)\u001b[0m\u001b[1;33m\u001b[0m\u001b[1;33m\u001b[0m\u001b[0m\n\u001b[0;32m      5\u001b[0m \u001b[1;33m\u001b[0m\u001b[0m\n",
      "\u001b[1;31mNameError\u001b[0m: name 'img_gray' is not defined"
     ]
    }
   ],
   "source": [
    "img = cv2.imread('sIMG_8254.jpg',1)\n",
    "gray = cv2.cvtColor(img, cv2.COLOR_BGR2GRAY)\n",
    "img_gray = cv2.medianBlur(img_gray,5)\n",
    "img_color = cv2.cvtColor(img_gray,cv2.COLOR_GRAY2BGR)\n",
    "\n",
    "circles = cv2.HoughCircles(img_gray,cv2.HOUGH_GRADIENT, 1, 20, param1 = 250, \n",
    "                           param2 = 55, minRadius = 0, maxRadius = 0)\n",
    "circles = np.uint16(np.around(circles))\n",
    "\n",
    "for c in circles[0,:]:\n",
    "\n",
    "    center = (c[0],c[1])\n",
    "    radius = c[2]\n",
    "\n",
    "    # 바깥원\n",
    "    cv2.circle(img_color,center,radius,(0,255,0),3)\n",
    "\n",
    "    # 중심원\n",
    "    cv2.circle(img_color,center,2,(0,0,255),3)\n",
    "\n",
    "\n",
    "\n",
    "gray_blur = cv2.GaussianBlur(gray, (15, 15), 0)\n",
    "thresh = cv2.adaptiveThreshold(gray_blur, 255, cv2.ADAPTIVE_THRESH_GAUSSIAN_C,\n",
    "                               cv2.THRESH_BINARY_INV, 11, 1)\n",
    "\n",
    "kernel = np.ones((3, 3), np.uint8)\n",
    "closing = cv2.morphologyEx(thresh, cv2.MORPH_CLOSE, kernel, iterations=4)\n",
    "\n",
    "cont_img = closing.copy()\n",
    "contours, hierarchy = cv2.findContours(cont_img, cv2.RETR_EXTERNAL, \n",
    "                                       cv2.CHAIN_APPROX_SIMPLE)\n",
    "\n",
    "for cnt in contours:\n",
    "    area = cv2.contourArea(cnt)\n",
    "    if area < 200 or area > 6500:\n",
    "        continue\n",
    "\n",
    "    if len(cnt) < 5:\n",
    "        continue\n",
    "\n",
    "    ellipse = cv2.fitEllipse(cnt)\n",
    "    cv2.ellipse(img, ellipse, (0, 255, 0), 2)\n",
    "\n",
    "cv2.imshow('detected circles',img_color)\n",
    "cv2.imshow(\"Morphological Closing\", closing)\n",
    "cv2.imshow(\"Adaptive Threshold\", thresh)\n",
    "# cv2.imshow(\"contours\", img)\n",
    "\n",
    "cv2.waitKey(0)\n",
    "cv2.destroyAllWindows()"
   ]
  },
  {
   "cell_type": "code",
   "execution_count": null,
   "id": "c004a429-1f85-4238-a6eb-ab7ad7967274",
   "metadata": {},
   "outputs": [],
   "source": []
  }
 ],
 "metadata": {
  "kernelspec": {
   "display_name": "Python 3",
   "language": "python",
   "name": "python3"
  },
  "language_info": {
   "codemirror_mode": {
    "name": "ipython",
    "version": 3
   },
   "file_extension": ".py",
   "mimetype": "text/x-python",
   "name": "python",
   "nbconvert_exporter": "python",
   "pygments_lexer": "ipython3",
   "version": "3.9.4"
  }
 },
 "nbformat": 4,
 "nbformat_minor": 5
}
